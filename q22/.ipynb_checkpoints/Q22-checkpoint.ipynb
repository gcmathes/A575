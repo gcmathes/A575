{
 "cells": [
  {
   "cell_type": "code",
   "execution_count": 101,
   "metadata": {
    "collapsed": false
   },
   "outputs": [],
   "source": [
    "def writer(dic, out):\n",
    "    '''\n",
    "    Takes the dictionary output from tabler and writes the values to a file.\n",
    "    \n",
    "    INPUT : The output dictionary of tabler, name of output file.\n",
    "    OUTPUT : File of the user's choice containing a formatted text file\n",
    "                of the physical characteristics of the isochrones.\n",
    "    '''\n",
    "    fil = open(out, 'w')\n",
    "    fil.write(\"# Z      log(age)  logTe    logL/Lo  IMF         stage\\n\")\n",
    "    for i in range(0, len(dic['metal'])):\n",
    "        fil.write(str(dic['metal'][i]) + \"   \" + str(dic['age'][i]) + \"       \" + str(dic['temp'][i])\\\n",
    "        + \"   \" + str(dic['lum'][i]) + \"  \" + str(dic['IMF'][i]) + \"   \" + str(dic['stage'][i]))\n",
    "        fil.write(\"\\n\")\n",
    "    \n",
    "    fil.close()"
   ]
  },
  {
   "cell_type": "code",
   "execution_count": 102,
   "metadata": {
    "collapsed": false
   },
   "outputs": [],
   "source": [
    "def tabler(name='zp00.dat', age=9.):\n",
    "    '''\n",
    "    Takes a tabulated data file, extracts columns of data. Then, outputs a \n",
    "    dictionary containing metallicity, age, temperature, luminosity, IMF, and\n",
    "    stage flag. Additionally, you may specify an age to extract when calling \n",
    "    the function.\n",
    "    \n",
    "    INPUTS: Filename, Age\n",
    "    OUTPUTS: data dictionary with tables of above values.\n",
    "    '''\n",
    "    \n",
    "    f = open(name, 'r')\n",
    "    met_tab = []\n",
    "    age_tab = []\n",
    "    temp_tab = []\n",
    "    lum_tab = []\n",
    "    IMF_tab = []\n",
    "    stage_tab = []\n",
    "    \n",
    "    for line in f:\n",
    "        column = line.split()\n",
    "        if column[0] != '#' and float(column[1]) == age:\n",
    "            met_tab.append(float(column[0]))\n",
    "            age_tab.append(float(column[1]))\n",
    "            temp_tab.append(float(column[5]))\n",
    "            lum_tab.append(float(column [4]))\n",
    "            IMF_tab.append(float(column[16]))\n",
    "            stage_tab.append(int(column[17]))\n",
    "    \n",
    "    data = {'metal' : met_tab, 'age' : age_tab, 'temp' : temp_tab, 'lum' : lum_tab, 'IMF' : IMF_tab, 'stage' : stage_tab } \n",
    "    return data"
   ]
  },
  {
   "cell_type": "code",
   "execution_count": 103,
   "metadata": {
    "collapsed": false
   },
   "outputs": [],
   "source": [
    "dat = tabler('zp00.dat', 9)"
   ]
  },
  {
   "cell_type": "code",
   "execution_count": 104,
   "metadata": {
    "collapsed": false
   },
   "outputs": [],
   "source": [
    "writer(dat, 'output.txt')"
   ]
  },
  {
   "cell_type": "code",
   "execution_count": null,
   "metadata": {
    "collapsed": true
   },
   "outputs": [],
   "source": []
  }
 ],
 "metadata": {
  "kernelspec": {
   "display_name": "Python 2",
   "language": "python",
   "name": "python2"
  },
  "language_info": {
   "codemirror_mode": {
    "name": "ipython",
    "version": 2
   },
   "file_extension": ".py",
   "mimetype": "text/x-python",
   "name": "python",
   "nbconvert_exporter": "python",
   "pygments_lexer": "ipython2",
   "version": "2.7.10"
  }
 },
 "nbformat": 4,
 "nbformat_minor": 0
}
