{
 "cells": [
  {
   "cell_type": "code",
   "execution_count": 1,
   "metadata": {
    "collapsed": true
   },
   "outputs": [],
   "source": [
    "n = 1\n",
    "limit1 = 100\n",
    "limit2 = 20\n",
    "#If you want to alter the starting variable or limits, you can do so up here.\n",
    "#The remaining variables are zeroed here for clarity.\n",
    "count = 0\n",
    "fact = 0\n",
    "total = 0\n",
    "\n",
    "#Because I'll be doing factorials, I made a recursive function that I'll be looping over. \n",
    "#It starts at the given variable and multiplies itself in increments of one until it reaches 0.\n",
    "def fac(i):\n",
    "    if i > 0:\n",
    "        inc = fac(i-1)\n",
    "        fact = i * inc\n",
    "        return fact\n",
    "    else:\n",
    "        return 1"
   ]
  },
  {
   "cell_type": "code",
   "execution_count": 2,
   "metadata": {
    "collapsed": false
   },
   "outputs": [
    {
     "name": "stdout",
     "output_type": "stream",
     "text": [
      "Starting n value : 1\n",
      "1\n",
      "1\n",
      "This loop has run : 1 times\n",
      "Next Value of n : 3\n",
      "6\n",
      "7\n",
      "This loop has run : 2 times\n",
      "Next Value of n : 7\n",
      "5040\n",
      "5047\n",
      "This loop has run : 3 times\n",
      "Next Value of n : 15\n",
      "1307674368000\n",
      "1307674373047\n",
      "This loop has run : 4 times\n",
      "Next Value of n : 31\n",
      "This loop has run : 5 times\n",
      "Next Value of n : 63\n",
      "This loop has run : 6 times\n",
      "Next Value of n : 127\n",
      "Limit of n has been reached, ending loop\n"
     ]
    }
   ],
   "source": [
    "#The loop and limit are made using variables that you can change at the start of the program.\n",
    "#I let the user know their starting value\n",
    "print('Starting n value : ')+str(n)\n",
    "while n < limit1:\n",
    "    if n < limit2:\n",
    "        temp = fac(n) #Here I call my recursive function, saving it to 'temp'.\n",
    "        print temp\n",
    "        total += temp #Then, I add the returned value to my 'total' variable to be output at the end.\n",
    "        print total\n",
    "    n = (n * 2) + 1 #After I execute the factorial, I double n and add one to it.\n",
    "    count += 1 #In order to count my number of loops, I use this count.\n",
    "    print('This loop has run : ')+str(count)+(' times')\n",
    "    print('Next Value of n : ')+str(n)\n",
    "    if n > limit1:   #Once my n value exceeds the limit above, I output this warning message.\n",
    "        print('Limit of n has been reached, ending loop')"
   ]
  },
  {
   "cell_type": "code",
   "execution_count": 3,
   "metadata": {
    "collapsed": false
   },
   "outputs": [
    {
     "name": "stdout",
     "output_type": "stream",
     "text": [
      "The sum of the factorials is : 1307674373047\n"
     ]
    }
   ],
   "source": [
    "#Now that the loop has finished, I output the 'total' variable which holds the sum of my factorials. \n",
    "print('The sum of the factorials is : ')+str(total)"
   ]
  },
  {
   "cell_type": "code",
   "execution_count": null,
   "metadata": {
    "collapsed": true
   },
   "outputs": [],
   "source": []
  }
 ],
 "metadata": {
  "kernelspec": {
   "display_name": "Python 2",
   "language": "python",
   "name": "python2"
  },
  "language_info": {
   "codemirror_mode": {
    "name": "ipython",
    "version": 2
   },
   "file_extension": ".py",
   "mimetype": "text/x-python",
   "name": "python",
   "nbconvert_exporter": "python",
   "pygments_lexer": "ipython2",
   "version": "2.7.10"
  }
 },
 "nbformat": 4,
 "nbformat_minor": 0
}
