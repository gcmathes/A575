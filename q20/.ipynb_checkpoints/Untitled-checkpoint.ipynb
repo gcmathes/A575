{
 "cells": [
  {
   "cell_type": "code",
   "execution_count": 32,
   "metadata": {
    "collapsed": true
   },
   "outputs": [],
   "source": [
    "def reverse(txt):\n",
    "    '''\n",
    "    Takes in a string 'txt' and prints the chars out in reverse\n",
    "    Input : String \n",
    "    Output : Line-by-line reversed chars\n",
    "    '''\n",
    "    for a in range(0, len(txt)):\n",
    "        print txt[len(txt) - a - 1]"
   ]
  },
  {
   "cell_type": "code",
   "execution_count": 33,
   "metadata": {
    "collapsed": false
   },
   "outputs": [
    {
     "name": "stdout",
     "output_type": "stream",
     "text": [
      "s\n",
      "t\n",
      "i\n",
      "b\n",
      "b\n",
      "o\n",
      "H\n"
     ]
    }
   ],
   "source": [
    "reverse(\"Hobbits\")"
   ]
  },
  {
   "cell_type": "markdown",
   "metadata": {},
   "source": [
    "End of Exercise 1\n",
    "##############################\n",
    "Begin Exercise 2"
   ]
  },
  {
   "cell_type": "code",
   "execution_count": 34,
   "metadata": {
    "collapsed": false
   },
   "outputs": [
    {
     "name": "stdout",
     "output_type": "stream",
     "text": [
      "Jack\n",
      "Kack\n",
      "Lack\n",
      "Mack\n",
      "Nack\n",
      "Ouack\n",
      "Pack\n",
      "Quack\n"
     ]
    }
   ],
   "source": [
    "prefixes = 'JKLMNOPQ'\n",
    "suffix = 'ack'\n",
    "\n",
    "for letter in prefixes:\n",
    "    if letter == 'Q' or letter == 'O':\n",
    "        print letter + 'u' + suffix\n",
    "    else:\n",
    "        print letter + suffix"
   ]
  },
  {
   "cell_type": "markdown",
   "metadata": {},
   "source": [
    "End of Exercise 2\n",
    "######################\n",
    "Begin Exercise 3"
   ]
  },
  {
   "cell_type": "code",
   "execution_count": 35,
   "metadata": {
    "collapsed": false
   },
   "outputs": [
    {
     "data": {
      "text/plain": [
       "'ban'"
      ]
     },
     "execution_count": 35,
     "metadata": {},
     "output_type": "execute_result"
    }
   ],
   "source": [
    "fruit = 'banana'\n",
    "fruit[:3]"
   ]
  },
  {
   "cell_type": "code",
   "execution_count": 36,
   "metadata": {
    "collapsed": false
   },
   "outputs": [
    {
     "data": {
      "text/plain": [
       "'ana'"
      ]
     },
     "execution_count": 36,
     "metadata": {},
     "output_type": "execute_result"
    }
   ],
   "source": [
    "fruit[3:]"
   ]
  },
  {
   "cell_type": "markdown",
   "metadata": {},
   "source": [
    "Given the above, saying fruit[:] should print out all indecies in the string. Ignoring the index before the colon starts at the beginning, ignoring the index after goes to the end. So, it should print all."
   ]
  },
  {
   "cell_type": "code",
   "execution_count": 37,
   "metadata": {
    "collapsed": false
   },
   "outputs": [
    {
     "data": {
      "text/plain": [
       "'banana'"
      ]
     },
     "execution_count": 37,
     "metadata": {},
     "output_type": "execute_result"
    }
   ],
   "source": [
    "fruit[:]"
   ]
  },
  {
   "cell_type": "markdown",
   "metadata": {},
   "source": [
    "And so it does!"
   ]
  },
  {
   "cell_type": "markdown",
   "metadata": {},
   "source": [
    "End Exercise 3\n",
    "######\n",
    "Begin Exercise 4"
   ]
  },
  {
   "cell_type": "code",
   "execution_count": 38,
   "metadata": {
    "collapsed": true
   },
   "outputs": [],
   "source": [
    "def find(word, letter, index):\n",
    "    while index < len(word):\n",
    "        if word[index] == letter:\n",
    "            return index\n",
    "        index = index + 1\n",
    "    return -1"
   ]
  },
  {
   "cell_type": "code",
   "execution_count": 39,
   "metadata": {
    "collapsed": false
   },
   "outputs": [
    {
     "data": {
      "text/plain": [
       "0"
      ]
     },
     "execution_count": 39,
     "metadata": {},
     "output_type": "execute_result"
    }
   ],
   "source": [
    "theword = 'bird'\n",
    "find(theword, 'b', 0)"
   ]
  },
  {
   "cell_type": "code",
   "execution_count": 40,
   "metadata": {
    "collapsed": false
   },
   "outputs": [
    {
     "data": {
      "text/plain": [
       "-1"
      ]
     },
     "execution_count": 40,
     "metadata": {},
     "output_type": "execute_result"
    }
   ],
   "source": [
    "find(theword, 'b', 1)"
   ]
  },
  {
   "cell_type": "markdown",
   "metadata": {},
   "source": [
    "End Exercise 4\n",
    "########\n",
    "Begin Exercise 5"
   ]
  },
  {
   "cell_type": "code",
   "execution_count": 41,
   "metadata": {
    "collapsed": true
   },
   "outputs": [],
   "source": [
    "def count(word, char):\n",
    "    counter = 0\n",
    "    for letter in word:\n",
    "        if letter == char:\n",
    "            counter = counter + 1\n",
    "    print counter"
   ]
  },
  {
   "cell_type": "code",
   "execution_count": 42,
   "metadata": {
    "collapsed": false
   },
   "outputs": [
    {
     "name": "stdout",
     "output_type": "stream",
     "text": [
      "2\n"
     ]
    }
   ],
   "source": [
    "palyndrome = \"god level dog\"\n",
    "\n",
    "count(palyndrome, 'o')"
   ]
  },
  {
   "cell_type": "markdown",
   "metadata": {},
   "source": [
    "End Exercise 5\n",
    "######\n",
    "Begin Exercise 9"
   ]
  },
  {
   "cell_type": "markdown",
   "metadata": {},
   "source": [
    "Running the program through text:\n",
    "\n",
    "word1 = pots , word2 = stop\n",
    "\n",
    "i = 0, char1 = p | j = 3, char2 = p\n",
    "\n",
    "i = 1, char1 = o | j = 2, char2 = o\n",
    "\n",
    "i = 2, char1 = t | j = 1, char2 = t\n",
    "\n",
    "Then, j = 0. Unfortunately, the loop only runs if j > 0, not equal to. So, the loop ends here. To fix this, we just adjust the conditional statement in the loop:"
   ]
  },
  {
   "cell_type": "code",
   "execution_count": 43,
   "metadata": {
    "collapsed": true
   },
   "outputs": [],
   "source": [
    "def is_reverse(word1, word2):\n",
    "    if len(word1) != len(word2):\n",
    "        return False\n",
    "    \n",
    "    i = 0\n",
    "    j = len(word2) - 1\n",
    "\n",
    "    while j >= 0:\n",
    "        print i, j\n",
    "        if word1[i] != word2[j]:\n",
    "            return False\n",
    "        i = i+1\n",
    "        j = j-1\n",
    "\n",
    "    return True"
   ]
  },
  {
   "cell_type": "code",
   "execution_count": 44,
   "metadata": {
    "collapsed": true
   },
   "outputs": [],
   "source": [
    "input1 = 'pots'\n",
    "input2 = 'stop'"
   ]
  },
  {
   "cell_type": "code",
   "execution_count": 45,
   "metadata": {
    "collapsed": false
   },
   "outputs": [
    {
     "name": "stdout",
     "output_type": "stream",
     "text": [
      "0 3\n",
      "1 2\n",
      "2 1\n",
      "3 0\n"
     ]
    },
    {
     "data": {
      "text/plain": [
       "True"
      ]
     },
     "execution_count": 45,
     "metadata": {},
     "output_type": "execute_result"
    }
   ],
   "source": [
    "is_reverse(input1, input2)"
   ]
  },
  {
   "cell_type": "markdown",
   "metadata": {},
   "source": [
    "Looks like this time around, it completed all parts of the loop and confirmed they are reversed. Just to make sure, one more test:"
   ]
  },
  {
   "cell_type": "code",
   "execution_count": 46,
   "metadata": {
    "collapsed": false
   },
   "outputs": [
    {
     "name": "stdout",
     "output_type": "stream",
     "text": [
      "0 3\n"
     ]
    },
    {
     "data": {
      "text/plain": [
       "False"
      ]
     },
     "execution_count": 46,
     "metadata": {},
     "output_type": "execute_result"
    }
   ],
   "source": [
    "is_reverse(input1, input1)"
   ]
  },
  {
   "cell_type": "code",
   "execution_count": null,
   "metadata": {
    "collapsed": true
   },
   "outputs": [],
   "source": []
  }
 ],
 "metadata": {
  "kernelspec": {
   "display_name": "Python 2",
   "language": "python",
   "name": "python2"
  },
  "language_info": {
   "codemirror_mode": {
    "name": "ipython",
    "version": 2
   },
   "file_extension": ".py",
   "mimetype": "text/x-python",
   "name": "python",
   "nbconvert_exporter": "python",
   "pygments_lexer": "ipython2",
   "version": "2.7.10"
  }
 },
 "nbformat": 4,
 "nbformat_minor": 0
}
