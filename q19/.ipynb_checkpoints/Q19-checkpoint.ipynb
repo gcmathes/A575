{
 "cells": [
  {
   "cell_type": "code",
   "execution_count": 11,
   "metadata": {
    "collapsed": true
   },
   "outputs": [],
   "source": [
    "import math"
   ]
  },
  {
   "cell_type": "code",
   "execution_count": 1,
   "metadata": {
    "collapsed": true
   },
   "outputs": [],
   "source": [
    "def print_n(n):\n",
    "    while n > 0:\n",
    "        print n\n",
    "        n -= 1\n",
    "    print \"Blastoff!!\"\n"
   ]
  },
  {
   "cell_type": "code",
   "execution_count": 2,
   "metadata": {
    "collapsed": false
   },
   "outputs": [
    {
     "name": "stdout",
     "output_type": "stream",
     "text": [
      "5\n",
      "4\n",
      "3\n",
      "2\n",
      "1\n",
      "Blastoff!!\n"
     ]
    }
   ],
   "source": [
    "print_n(5)"
   ]
  },
  {
   "cell_type": "markdown",
   "metadata": {},
   "source": [
    "End Exercise 1, begin Exercise 2"
   ]
  },
  {
   "cell_type": "code",
   "execution_count": 14,
   "metadata": {
    "collapsed": true
   },
   "outputs": [],
   "source": [
    "def square_root(a):\n",
    "    x = a * (3./4.)\n",
    "    y = (x + a/x) / 2.\n",
    "    epsilon = 0.000001\n",
    "    while abs(y-x) > epsilon:\n",
    "        x = y\n",
    "        y = (x + a/x) / 2.\n",
    "    return y"
   ]
  },
  {
   "cell_type": "code",
   "execution_count": 8,
   "metadata": {
    "collapsed": false
   },
   "outputs": [
    {
     "name": "stdout",
     "output_type": "stream",
     "text": [
      "2.0\n"
     ]
    }
   ],
   "source": [
    "print square_root(4)"
   ]
  },
  {
   "cell_type": "code",
   "execution_count": 9,
   "metadata": {
    "collapsed": false
   },
   "outputs": [
    {
     "name": "stdout",
     "output_type": "stream",
     "text": [
      "4.0\n"
     ]
    }
   ],
   "source": [
    "print square_root(16)"
   ]
  },
  {
   "cell_type": "code",
   "execution_count": 10,
   "metadata": {
    "collapsed": false
   },
   "outputs": [
    {
     "name": "stdout",
     "output_type": "stream",
     "text": [
      "2.82842712475\n"
     ]
    }
   ],
   "source": [
    "print square_root(8)"
   ]
  },
  {
   "cell_type": "markdown",
   "metadata": {},
   "source": [
    "End Exercise 2, begin Exercise 3"
   ]
  },
  {
   "cell_type": "code",
   "execution_count": 17,
   "metadata": {
    "collapsed": true
   },
   "outputs": [],
   "source": [
    "def test_square_root():\n",
    "    for a in range(1, 10):\n",
    "        test1 = square_root(a)\n",
    "        test2 = math.sqrt(a)\n",
    "        print str(a) + \" \" + str(test1) + \" \" + str(test2) + \" \" + str(abs(test1 - test2))"
   ]
  },
  {
   "cell_type": "code",
   "execution_count": 18,
   "metadata": {
    "collapsed": false
   },
   "outputs": [
    {
     "name": "stdout",
     "output_type": "stream",
     "text": [
      "1 1.0 1.0 6.01740879347e-14\n",
      "2 1.41421356237 1.41421356237 2.22044604925e-16\n",
      "3 1.73205080757 1.73205080757 2.33146835171e-14\n",
      "4 2.0 2.0 0.0\n",
      "5 2.2360679775 2.2360679775 0.0\n",
      "6 2.44948974278 2.44948974278 0.0\n",
      "7 2.64575131106 2.64575131106 1.7763568394e-15\n",
      "8 2.82842712475 2.82842712475 3.33066907388e-14\n",
      "9 3.0 3.0 0.0\n"
     ]
    }
   ],
   "source": [
    "test_square_root()"
   ]
  },
  {
   "cell_type": "code",
   "execution_count": null,
   "metadata": {
    "collapsed": true
   },
   "outputs": [],
   "source": []
  }
 ],
 "metadata": {
  "kernelspec": {
   "display_name": "Python 2",
   "language": "python",
   "name": "python2"
  },
  "language_info": {
   "codemirror_mode": {
    "name": "ipython",
    "version": 2
   },
   "file_extension": ".py",
   "mimetype": "text/x-python",
   "name": "python",
   "nbconvert_exporter": "python",
   "pygments_lexer": "ipython2",
   "version": "2.7.10"
  }
 },
 "nbformat": 4,
 "nbformat_minor": 0
}
